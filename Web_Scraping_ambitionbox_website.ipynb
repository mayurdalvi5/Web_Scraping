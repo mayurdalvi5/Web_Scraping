{
  "nbformat": 4,
  "nbformat_minor": 0,
  "metadata": {
    "colab": {
      "name": "Web-Scraping-ambitionbox_website.ipynb",
      "provenance": [],
      "collapsed_sections": [],
      "authorship_tag": "ABX9TyNyCqnDKsnsLR2435zN6qEX",
      "include_colab_link": true
    },
    "kernelspec": {
      "name": "python3",
      "display_name": "Python 3"
    },
    "language_info": {
      "name": "python"
    }
  },
  "cells": [
    {
      "cell_type": "markdown",
      "metadata": {
        "id": "view-in-github",
        "colab_type": "text"
      },
      "source": [
        "<a href=\"https://colab.research.google.com/github/mayurdalvi5/Web_Scraping/blob/main/Web_Scraping_ambitionbox_website.ipynb\" target=\"_parent\"><img src=\"https://colab.research.google.com/assets/colab-badge.svg\" alt=\"Open In Colab\"/></a>"
      ]
    },
    {
      "cell_type": "code",
      "metadata": {
        "id": "reajY3HXTK3Z"
      },
      "source": [
        "import pandas as pd\n",
        "import requests\n",
        "from bs4 import BeautifulSoup\n",
        "import numpy as np"
      ],
      "execution_count": null,
      "outputs": []
    },
    {
      "cell_type": "code",
      "metadata": {
        "id": "ZgIZtyd_TM6I"
      },
      "source": [
        "webpage=requests.get('https://www.ambitionbox.com/list-of-companies?page=1').text"
      ],
      "execution_count": null,
      "outputs": []
    },
    {
      "cell_type": "code",
      "metadata": {
        "id": "ZZaT-OabTMvo"
      },
      "source": [
        "soup=BeautifulSoup(webpage,'lxml')"
      ],
      "execution_count": null,
      "outputs": []
    },
    {
      "cell_type": "code",
      "metadata": {
        "id": "13FjnNL6TYBo"
      },
      "source": [
        "\n",
        "company=soup.find_all('div',class_='company-content-wrapper')"
      ],
      "execution_count": null,
      "outputs": []
    },
    {
      "cell_type": "code",
      "metadata": {
        "colab": {
          "base_uri": "https://localhost:8080/",
          "height": 235
        },
        "id": "elw9eR1QTq-B",
        "outputId": "d2be17a2-2cbe-4ff4-c016-e38871f0c635"
      },
      "source": [
        "final=pd.DataFrame()\n",
        "for j in range(1,11):\n",
        "  webpage=requests.get('https://www.ambitionbox.com/list-of-companies?page={}'.format(j)).text\n",
        "  soup=BeautifulSoup(webpage,'lxml')\n",
        "  company=soup.find_all('div',class_='company-content-wrapper')\n",
        "  name=[]\n",
        "  rating=[]\n",
        "  reviews=[]\n",
        "  ctype=[]\n",
        "  hq=[]\n",
        "  how_old=[]\n",
        "  no_of_employee=[]\n",
        "\n",
        "  for i in company:\n",
        "    name.append(i.find('h2').text.strip())\n",
        "    rating.append(i.find('p',class_='rating').text.strip())\n",
        "\n",
        "   \n",
        "       \n",
        "   \n",
        "\n",
        "    try:\n",
        "       rating.append(i.find('p',class_='rating').text.strip())\n",
        "    except:\n",
        "       rating.append(np.nan)\n",
        "   \n",
        "    try:\n",
        "\n",
        "      reviews.append(i.find('a' , class_='review-count').text.strip())\n",
        "    except:\n",
        "      reviews.append(np.nan)\n",
        "\n",
        "    try:\n",
        "\n",
        "      ctype.append(i.find_all('p',class_='infoEntity')[0].text.strip())\n",
        "    except:\n",
        "      ctype.append(np.nan)\n",
        "    try:\n",
        "\n",
        "      hq.append(i.find_all('p',class_='infoEntity')[1].text.strip())\n",
        "    except:\n",
        "      hq.append(np.nan)\n",
        "    \n",
        "    try:\n",
        "\n",
        "      how_old.append(i.find_all('p',class_='infoEntity')[2].text.strip())\n",
        "    except:\n",
        "      how_old.append(np.nan)\n",
        "    try:\n",
        "      no_of_employee.append(i.find_all('p',class_='infoEntity')[3].text.strip())\n",
        "    except:\n",
        "      no_of_employee.append(np.nan)\n",
        "    \n",
        "\n",
        "  df=pd.DataFrame({'name':name,\n",
        "    'rating':rating,\n",
        "    'reviews':reviews,\n",
        "    'company_type':ctype,\n",
        "    'Head_Quarters':hq,\n",
        "    'Company_Age':how_old,\n",
        "    'No_of_Employee':no_of_employee,\n",
        "    })\n",
        "  \n",
        "  final=final.append(df,ignore_index=True)\n",
        "\n"
      ],
      "execution_count": null,
      "outputs": [
        {
          "output_type": "error",
          "ename": "IndexError",
          "evalue": "ignored",
          "traceback": [
            "\u001b[0;31m---------------------------------------------------------------------------\u001b[0m",
            "\u001b[0;31mIndexError\u001b[0m                                Traceback (most recent call last)",
            "\u001b[0;32m<ipython-input-14-3c0ba7dcf7bd>\u001b[0m in \u001b[0;36m<module>\u001b[0;34m()\u001b[0m\n\u001b[1;32m     19\u001b[0m     \u001b[0mhq\u001b[0m\u001b[0;34m.\u001b[0m\u001b[0mappend\u001b[0m\u001b[0;34m(\u001b[0m\u001b[0mi\u001b[0m\u001b[0;34m.\u001b[0m\u001b[0mfind_all\u001b[0m\u001b[0;34m(\u001b[0m\u001b[0;34m'p'\u001b[0m\u001b[0;34m,\u001b[0m\u001b[0mclass_\u001b[0m\u001b[0;34m=\u001b[0m\u001b[0;34m'infoEntity'\u001b[0m\u001b[0;34m)\u001b[0m\u001b[0;34m[\u001b[0m\u001b[0;36m1\u001b[0m\u001b[0;34m]\u001b[0m\u001b[0;34m.\u001b[0m\u001b[0mtext\u001b[0m\u001b[0;34m.\u001b[0m\u001b[0mstrip\u001b[0m\u001b[0;34m(\u001b[0m\u001b[0;34m)\u001b[0m\u001b[0;34m)\u001b[0m\u001b[0;34m\u001b[0m\u001b[0;34m\u001b[0m\u001b[0m\n\u001b[1;32m     20\u001b[0m     \u001b[0mhow_old\u001b[0m\u001b[0;34m.\u001b[0m\u001b[0mappend\u001b[0m\u001b[0;34m(\u001b[0m\u001b[0mi\u001b[0m\u001b[0;34m.\u001b[0m\u001b[0mfind_all\u001b[0m\u001b[0;34m(\u001b[0m\u001b[0;34m'p'\u001b[0m\u001b[0;34m,\u001b[0m\u001b[0mclass_\u001b[0m\u001b[0;34m=\u001b[0m\u001b[0;34m'infoEntity'\u001b[0m\u001b[0;34m)\u001b[0m\u001b[0;34m[\u001b[0m\u001b[0;36m2\u001b[0m\u001b[0;34m]\u001b[0m\u001b[0;34m.\u001b[0m\u001b[0mtext\u001b[0m\u001b[0;34m.\u001b[0m\u001b[0mstrip\u001b[0m\u001b[0;34m(\u001b[0m\u001b[0;34m)\u001b[0m\u001b[0;34m)\u001b[0m\u001b[0;34m\u001b[0m\u001b[0;34m\u001b[0m\u001b[0m\n\u001b[0;32m---> 21\u001b[0;31m     \u001b[0mno_of_employee\u001b[0m\u001b[0;34m.\u001b[0m\u001b[0mappend\u001b[0m\u001b[0;34m(\u001b[0m\u001b[0mi\u001b[0m\u001b[0;34m.\u001b[0m\u001b[0mfind_all\u001b[0m\u001b[0;34m(\u001b[0m\u001b[0;34m'p'\u001b[0m\u001b[0;34m,\u001b[0m\u001b[0mclass_\u001b[0m\u001b[0;34m=\u001b[0m\u001b[0;34m'infoEntity'\u001b[0m\u001b[0;34m)\u001b[0m\u001b[0;34m[\u001b[0m\u001b[0;36m3\u001b[0m\u001b[0;34m]\u001b[0m\u001b[0;34m.\u001b[0m\u001b[0mtext\u001b[0m\u001b[0;34m.\u001b[0m\u001b[0mstrip\u001b[0m\u001b[0;34m(\u001b[0m\u001b[0;34m)\u001b[0m\u001b[0;34m)\u001b[0m\u001b[0;34m\u001b[0m\u001b[0;34m\u001b[0m\u001b[0m\n\u001b[0m\u001b[1;32m     22\u001b[0m \u001b[0;34m\u001b[0m\u001b[0m\n\u001b[1;32m     23\u001b[0m \u001b[0;34m\u001b[0m\u001b[0m\n",
            "\u001b[0;31mIndexError\u001b[0m: list index out of range"
          ]
        }
      ]
    },
    {
      "cell_type": "code",
      "metadata": {
        "colab": {
          "base_uri": "https://localhost:8080/",
          "height": 424
        },
        "id": "m69Td-T4W1Wh",
        "outputId": "dc37e7d4-5d3f-4a50-f893-c608dcf2c4aa"
      },
      "source": [
        "final"
      ],
      "execution_count": null,
      "outputs": [
        {
          "output_type": "execute_result",
          "data": {
            "text/html": [
              "<div>\n",
              "<style scoped>\n",
              "    .dataframe tbody tr th:only-of-type {\n",
              "        vertical-align: middle;\n",
              "    }\n",
              "\n",
              "    .dataframe tbody tr th {\n",
              "        vertical-align: top;\n",
              "    }\n",
              "\n",
              "    .dataframe thead th {\n",
              "        text-align: right;\n",
              "    }\n",
              "</style>\n",
              "<table border=\"1\" class=\"dataframe\">\n",
              "  <thead>\n",
              "    <tr style=\"text-align: right;\">\n",
              "      <th></th>\n",
              "      <th>name</th>\n",
              "      <th>rating</th>\n",
              "      <th>reviews</th>\n",
              "      <th>company_type</th>\n",
              "      <th>Head_Quarters</th>\n",
              "      <th>Company_Age</th>\n",
              "      <th>No_of_Employee</th>\n",
              "    </tr>\n",
              "  </thead>\n",
              "  <tbody>\n",
              "    <tr>\n",
              "      <th>0</th>\n",
              "      <td>TCS</td>\n",
              "      <td>4.0</td>\n",
              "      <td>(24.3k Reviews)</td>\n",
              "      <td>Public</td>\n",
              "      <td>Mumbai,Maharashtra + 196 more</td>\n",
              "      <td>53 years old</td>\n",
              "      <td>100001+ employees</td>\n",
              "    </tr>\n",
              "    <tr>\n",
              "      <th>1</th>\n",
              "      <td>Accenture</td>\n",
              "      <td>4.0</td>\n",
              "      <td>(19.5k Reviews)</td>\n",
              "      <td>Public</td>\n",
              "      <td>Dublin,Dublin + 118 more</td>\n",
              "      <td>32 years old</td>\n",
              "      <td>100001+ employees</td>\n",
              "    </tr>\n",
              "    <tr>\n",
              "      <th>2</th>\n",
              "      <td>ICICI Bank</td>\n",
              "      <td>4.0</td>\n",
              "      <td>(17.7k Reviews)</td>\n",
              "      <td>Public</td>\n",
              "      <td>Mumbai + 868 more</td>\n",
              "      <td>27 years old</td>\n",
              "      <td>50001-100000 employees</td>\n",
              "    </tr>\n",
              "    <tr>\n",
              "      <th>3</th>\n",
              "      <td>Cognizant</td>\n",
              "      <td>3.8</td>\n",
              "      <td>(17.6k Reviews)</td>\n",
              "      <td>Private</td>\n",
              "      <td>Teaneck + 62 more</td>\n",
              "      <td>27 years old</td>\n",
              "      <td>100001+ employees</td>\n",
              "    </tr>\n",
              "    <tr>\n",
              "      <th>4</th>\n",
              "      <td>HDFC Bank</td>\n",
              "      <td>4.0</td>\n",
              "      <td>(15.5k Reviews)</td>\n",
              "      <td>Public</td>\n",
              "      <td>Mumbai,Maharashtra + 924 more</td>\n",
              "      <td>27 years old</td>\n",
              "      <td>100001+ employees</td>\n",
              "    </tr>\n",
              "    <tr>\n",
              "      <th>...</th>\n",
              "      <td>...</td>\n",
              "      <td>...</td>\n",
              "      <td>...</td>\n",
              "      <td>...</td>\n",
              "      <td>...</td>\n",
              "      <td>...</td>\n",
              "      <td>...</td>\n",
              "    </tr>\n",
              "    <tr>\n",
              "      <th>294</th>\n",
              "      <td>Thomson Reuters</td>\n",
              "      <td>4.3</td>\n",
              "      <td>(1k Reviews)</td>\n",
              "      <td>Private</td>\n",
              "      <td>Toronto + 15 more</td>\n",
              "      <td>13 years old</td>\n",
              "      <td>10001-50000 employees</td>\n",
              "    </tr>\n",
              "    <tr>\n",
              "      <th>295</th>\n",
              "      <td>Sonalika Tractors</td>\n",
              "      <td>4.0</td>\n",
              "      <td>(1k Reviews)</td>\n",
              "      <td>Private</td>\n",
              "      <td>Hoshirarpur + 103 more</td>\n",
              "      <td>52 years old</td>\n",
              "      <td>10001-50000 employees</td>\n",
              "    </tr>\n",
              "    <tr>\n",
              "      <th>296</th>\n",
              "      <td>R.R. Donnelley</td>\n",
              "      <td>4.1</td>\n",
              "      <td>(1k Reviews)</td>\n",
              "      <td>Private</td>\n",
              "      <td>Chicago,Illinois + 6 more</td>\n",
              "      <td>157 years old</td>\n",
              "      <td>10001-50000 employees</td>\n",
              "    </tr>\n",
              "    <tr>\n",
              "      <th>297</th>\n",
              "      <td>Wockhardt</td>\n",
              "      <td>4.2</td>\n",
              "      <td>(1k Reviews)</td>\n",
              "      <td>Public</td>\n",
              "      <td>Mumbai,Maharashtra + 66 more</td>\n",
              "      <td>22 years old</td>\n",
              "      <td>5001-10000 employees</td>\n",
              "    </tr>\n",
              "    <tr>\n",
              "      <th>298</th>\n",
              "      <td>L&amp;T Technology Ser...</td>\n",
              "      <td>3.2</td>\n",
              "      <td>(997 Reviews)</td>\n",
              "      <td>Vadodara/Baroda,Gujarat + 17 more</td>\n",
              "      <td>9 years old</td>\n",
              "      <td>10001-50000 employees</td>\n",
              "      <td>NaN</td>\n",
              "    </tr>\n",
              "  </tbody>\n",
              "</table>\n",
              "<p>299 rows × 7 columns</p>\n",
              "</div>"
            ],
            "text/plain": [
              "                      name  ...          No_of_Employee\n",
              "0                      TCS  ...       100001+ employees\n",
              "1                Accenture  ...       100001+ employees\n",
              "2               ICICI Bank  ...  50001-100000 employees\n",
              "3                Cognizant  ...       100001+ employees\n",
              "4                HDFC Bank  ...       100001+ employees\n",
              "..                     ...  ...                     ...\n",
              "294        Thomson Reuters  ...   10001-50000 employees\n",
              "295      Sonalika Tractors  ...   10001-50000 employees\n",
              "296         R.R. Donnelley  ...   10001-50000 employees\n",
              "297              Wockhardt  ...    5001-10000 employees\n",
              "298  L&T Technology Ser...  ...                     NaN\n",
              "\n",
              "[299 rows x 7 columns]"
            ]
          },
          "metadata": {},
          "execution_count": 13
        }
      ]
    },
    {
      "cell_type": "code",
      "metadata": {
        "id": "EaBVnmTjXB3Q"
      },
      "source": [
        ""
      ],
      "execution_count": null,
      "outputs": []
    }
  ]
}